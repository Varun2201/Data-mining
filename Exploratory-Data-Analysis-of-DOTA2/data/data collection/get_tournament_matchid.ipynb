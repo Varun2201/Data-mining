{
 "cells": [
  {
   "cell_type": "code",
   "execution_count": 9,
   "metadata": {},
   "outputs": [],
   "source": [
    "from bs4 import BeautifulSoup\n",
    "import requests"
   ]
  },
  {
   "cell_type": "code",
   "execution_count": 10,
   "metadata": {},
   "outputs": [],
   "source": [
    "only_id = []\n",
    "url = ['https://liquipedia.net/dota2/The_International/2017',\n",
    "    'https://liquipedia.net/dota2/The_International/2017/Group_Stage']\n",
    "urll = []\n",
    "for k in url:\n",
    "    source = requests.get(k,headers = {'User-agent': 'Bot-1'}).text\n",
    "    soup = BeautifulSoup(source, \"lxml\")\n",
    "    article = soup.find_all('a')\n",
    "    for i in article:\n",
    "        try:\n",
    "            if 'DOTABUFF' in i['title']:\n",
    "                urll.append(i['href'])\n",
    "        except:\n",
    "            pass\n",
    "        \n",
    "for j in urll:\n",
    "    p = j.split('/')\n",
    "    if p[-1] not in only_id:\n",
    "        only_id.append([p[-1]])"
   ]
  },
  {
   "cell_type": "code",
   "execution_count": 11,
   "metadata": {},
   "outputs": [],
   "source": [
    "import pandas as pd\n",
    "output = pd.DataFrame(only_id)\n",
    "output.to_csv('international_2017.csv')\n"
   ]
  },
  {
   "cell_type": "code",
   "execution_count": 12,
   "metadata": {},
   "outputs": [
    {
     "data": {
      "text/plain": [
       "197"
      ]
     },
     "execution_count": 12,
     "metadata": {},
     "output_type": "execute_result"
    }
   ],
   "source": [
    "len(only_id)"
   ]
  },
  {
   "cell_type": "code",
   "execution_count": null,
   "metadata": {},
   "outputs": [],
   "source": []
  },
  {
   "cell_type": "code",
   "execution_count": null,
   "metadata": {},
   "outputs": [],
   "source": []
  }
 ],
 "metadata": {
  "interpreter": {
   "hash": "b280a8e851adcd8bb171629d8dcdb26835ae882049d58af29b7152cbc7fba4a5"
  },
  "kernelspec": {
   "display_name": "Python 3.9.6 64-bit",
   "language": "python",
   "name": "python3"
  },
  "language_info": {
   "codemirror_mode": {
    "name": "ipython",
    "version": 3
   },
   "file_extension": ".py",
   "mimetype": "text/x-python",
   "name": "python",
   "nbconvert_exporter": "python",
   "pygments_lexer": "ipython3",
   "version": "3.8.8"
  },
  "orig_nbformat": 4
 },
 "nbformat": 4,
 "nbformat_minor": 2
}
