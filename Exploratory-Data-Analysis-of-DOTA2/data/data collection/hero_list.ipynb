{
 "cells": [
  {
   "cell_type": "code",
   "execution_count": 2,
   "metadata": {},
   "outputs": [],
   "source": [
    "import pandas as pd\n",
    "import requests \n",
    "import json"
   ]
  },
  {
   "cell_type": "code",
   "execution_count": 9,
   "metadata": {},
   "outputs": [],
   "source": [
    "url = 'https://api.steampowered.com/IEconDOTA2_570/GetHeroes/v0001/?key=22B7FC208EA5722620B22DCEA99C638A'\n",
    "source = requests.get(url)\n",
    "matchdetails = json.loads(source.text)"
   ]
  },
  {
   "cell_type": "code",
   "execution_count": 19,
   "metadata": {},
   "outputs": [],
   "source": [
    "names = matchdetails['result']['heroes']"
   ]
  },
  {
   "cell_type": "code",
   "execution_count": 40,
   "metadata": {},
   "outputs": [],
   "source": [
    "heroes = []\n",
    "for i in names:\n",
    "    hero = i['name']\n",
    "    hero = hero.split('_')[3:]\n",
    "    hero = '_'.join(hero)\n",
    "    heroes.append([hero,i['id']])"
   ]
  },
  {
   "cell_type": "code",
   "execution_count": 42,
   "metadata": {},
   "outputs": [],
   "source": [
    "heroes = pd.DataFrame(heroes,columns=['hero','heroid'])\n",
    "heroes.to_csv('hero_name.csv',index=False)"
   ]
  }
 ],
 "metadata": {
  "interpreter": {
   "hash": "5e1c02cb8886270df1e9273773b156ab50dcad34df9a89319f80c6e2950455ae"
  },
  "kernelspec": {
   "display_name": "Python 3.8.8 64-bit ('base': conda)",
   "language": "python",
   "name": "python3"
  },
  "language_info": {
   "codemirror_mode": {
    "name": "ipython",
    "version": 3
   },
   "file_extension": ".py",
   "mimetype": "text/x-python",
   "name": "python",
   "nbconvert_exporter": "python",
   "pygments_lexer": "ipython3",
   "version": "3.8.8"
  },
  "orig_nbformat": 4
 },
 "nbformat": 4,
 "nbformat_minor": 2
}
