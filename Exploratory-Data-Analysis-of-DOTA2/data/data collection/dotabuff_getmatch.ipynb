{
 "cells": [
  {
   "cell_type": "code",
   "execution_count": 1,
   "metadata": {},
   "outputs": [],
   "source": [
    "import requests\n",
    "import json\n",
    "import time \n",
    "from bs4 import BeautifulSoup\n",
    "import csv"
   ]
  },
  {
   "cell_type": "code",
   "execution_count": 2,
   "metadata": {},
   "outputs": [],
   "source": [
    "url = 'https://www.dotabuff.com/matches?skill_bracket=very_high_skill'\n",
    "k =[]"
   ]
  },
  {
   "cell_type": "code",
   "execution_count": 3,
   "metadata": {},
   "outputs": [
    {
     "name": "stdout",
     "output_type": "stream",
     "text": [
      "50\n",
      "100\n",
      "100\n",
      "150\n",
      "150\n",
      "200\n",
      "200\n"
     ]
    }
   ],
   "source": [
    "while len(k) < 20000:\n",
    "    z = {'User-agent': '1'}\n",
    "    source = requests.get(url,headers= z).text\n",
    "    z['User-agent'] = str(int(z['User-agent'])+1)\n",
    "    soup = BeautifulSoup(source, \"lxml\")\n",
    "    article = soup.find_all('table')\n",
    "    link = article[0].find_all('a')\n",
    "    for i in link:\n",
    "        if len(i.text)==10:\n",
    "            c = i.text\n",
    "            if c not in k:\n",
    "                k.append(i.text)\n",
    "    print(len(k))\n",
    "    with open('match_new_i1d.csv','w',newline='\\n') as f:\n",
    "        write=csv.writer(f)\n",
    "        write.writerow(k)\n",
    "    time.sleep(600)\n"
   ]
  }
 ],
 "metadata": {
  "interpreter": {
   "hash": "b280a8e851adcd8bb171629d8dcdb26835ae882049d58af29b7152cbc7fba4a5"
  },
  "kernelspec": {
   "display_name": "Python 3.9.6 64-bit",
   "language": "python",
   "name": "python3"
  },
  "language_info": {
   "codemirror_mode": {
    "name": "ipython",
    "version": 3
   },
   "file_extension": ".py",
   "mimetype": "text/x-python",
   "name": "python",
   "nbconvert_exporter": "python",
   "pygments_lexer": "ipython3",
   "version": "3.8.8"
  },
  "orig_nbformat": 4
 },
 "nbformat": 4,
 "nbformat_minor": 2
}
