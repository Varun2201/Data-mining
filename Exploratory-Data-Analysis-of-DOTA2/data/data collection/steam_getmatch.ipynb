{
 "cells": [
  {
   "cell_type": "code",
   "execution_count": 1,
   "metadata": {},
   "outputs": [],
   "source": [
    "import time \n",
    "import requests\n",
    "import json\n",
    "import csv"
   ]
  },
  {
   "cell_type": "code",
   "execution_count": 2,
   "metadata": {},
   "outputs": [
    {
     "name": "stdout",
     "output_type": "stream",
     "text": [
      "57 43\n"
     ]
    }
   ],
   "source": [
    "k = []\n",
    "l = []\n",
    "\n",
    "while len(k)<50000:\n",
    "    url = 'http://api.steampowered.com/IDOTA2Match_570/GetMatchHistory/v001/?key=22B7FC208EA5722620B22DCEA99C638A&skill=3&min_players=10'\n",
    "    source = requests.get(url)\n",
    "    source.text.replace('\\n','')\n",
    "    a = json.loads(source.text)\n",
    "    match = a['result']['matches']\n",
    "    for i in match:\n",
    "        if i['match_id'] not in k:\n",
    "            if i['lobby_type'] ==7:\n",
    "                k.append(i['match_id'])\n",
    "            else:\n",
    "                if i['match_id'] not in l:\n",
    "                    if i['lobby_type']!=14:\n",
    "                        l.append(i['match_id'])\n",
    "    print(len(k),len(l))\n",
    "    \n",
    "    with open('match_new_k1d_3.csv','w',newline='\\n') as f:\n",
    "        write=csv.writer(f)\n",
    "        write.writerow(k)\n",
    "    with open('match_new_lid_3.csv','w',newline='\\n') as f:\n",
    "        write=csv.writer(f)\n",
    "        write.writerow(l)\n",
    "    time.sleep(720)"
   ]
  },
  {
   "cell_type": "code",
   "execution_count": null,
   "metadata": {},
   "outputs": [],
   "source": [
    "\n"
   ]
  },
  {
   "cell_type": "code",
   "execution_count": null,
   "metadata": {},
   "outputs": [],
   "source": []
  }
 ],
 "metadata": {
  "interpreter": {
   "hash": "5e1c02cb8886270df1e9273773b156ab50dcad34df9a89319f80c6e2950455ae"
  },
  "kernelspec": {
   "display_name": "Python 3",
   "language": "python",
   "name": "python3"
  },
  "language_info": {
   "codemirror_mode": {
    "name": "ipython",
    "version": 3
   },
   "file_extension": ".py",
   "mimetype": "text/x-python",
   "name": "python",
   "nbconvert_exporter": "python",
   "pygments_lexer": "ipython3",
   "version": "3.8.8"
  }
 },
 "nbformat": 4,
 "nbformat_minor": 2
}
