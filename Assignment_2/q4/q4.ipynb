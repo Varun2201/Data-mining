{
 "cells": [
  {
   "cell_type": "code",
   "execution_count": 7,
   "metadata": {},
   "outputs": [],
   "source": [
    "import pandas as pd\n",
    "#data_frame = pd.read_csv('../output/percent-india.csv')\n",
    "\n",
    "census = pd.read_csv('../data/Census_clean.csv')\n",
    "language = pd.read_csv('../data/C-18.csv')"
   ]
  },
  {
   "cell_type": "code",
   "execution_count": 8,
   "metadata": {},
   "outputs": [
    {
     "data": {
      "text/plain": [
       "\"state = list(data_frame['state-code'].unique())\\noutput_3 =[]\\n\\nfor i in state:\\n    temp = data_frame[data_frame['state-code']==i]\\n    ratio = float(temp['percent-three']/temp['percent-two'])\\n    output_3.append([i,ratio])\""
      ]
     },
     "execution_count": 8,
     "metadata": {},
     "output_type": "execute_result"
    }
   ],
   "source": [
    "'''state = list(data_frame['state-code'].unique())\n",
    "output_3 =[]\n",
    "\n",
    "for i in state:\n",
    "    temp = data_frame[data_frame['state-code']==i]\n",
    "    ratio = float(temp['percent-three']/temp['percent-two'])\n",
    "    output_3.append([i,ratio])'''"
   ]
  },
  {
   "cell_type": "code",
   "execution_count": 9,
   "metadata": {},
   "outputs": [],
   "source": [
    "state = list(language['State_code'].unique())\n",
    "output_3 =[]\n",
    "\n",
    "for i in state:\n",
    "    temp_census = census[(census['State']==i) & (census['TRU']=='Total')] \n",
    "    temp_language = language[(language['State_code']==i) & (language['Type']=='Total') & (language['Age_grp']=='Total')]\n",
    "\n",
    "    two_language = int(temp_language['Person-second'] - temp_language['Person-third'])\n",
    "    three_language = int(temp_language['Person-third'])\n",
    "\n",
    "    ratio = three_language/two_language\n",
    "    output_3.append([i,ratio])\n",
    "\n",
    "\n",
    "\n"
   ]
  },
  {
   "cell_type": "code",
   "execution_count": 10,
   "metadata": {},
   "outputs": [],
   "source": [
    "output_3.sort(key=lambda x: x[1],reverse=True)\n",
    "final =[]\n",
    "final.extend(output_3[:3])\n",
    "final.extend([output_3[-1],output_3[-2],output_3[-3]])\n",
    "\n",
    "final = pd.DataFrame(final,columns=['state/ut','3-to-2-ratio'])\n",
    "final.to_csv('../output/3-to-2-ratio.csv')"
   ]
  },
  {
   "cell_type": "code",
   "execution_count": 11,
   "metadata": {},
   "outputs": [],
   "source": [
    "output_2 =[]\n",
    "\n",
    "'''for i in state:\n",
    "    temp = data_frame[data_frame['state-code']==i]\n",
    "    ratio = float(temp['percent-two']/temp['percent-one'])\n",
    "    output_2.append([i,ratio])'''\n",
    "\n",
    "\n",
    "for i in state:\n",
    "    temp_census = census[(census['State']==i) & (census['TRU']=='Total')] \n",
    "    temp_language = language[(language['State_code']==i) & (language['Type']=='Total') & (language['Age_grp']=='Total')]\n",
    "\n",
    "    one_language = int(temp_census['TOT_P']) - int(temp_language['Person-second'])\n",
    "    two_language = int(temp_language['Person-second'] - temp_language['Person-third'])\n",
    "    three_language = int(temp_language['Person-third'])\n",
    "\n",
    "    ratio = two_language/one_language\n",
    "    output_2.append([i,ratio])\n",
    "\n",
    "\n",
    "\n",
    "\n",
    "output_2.sort(key=lambda x: x[1],reverse=True)\n",
    "\n",
    "final =[]\n",
    "final.extend(output_2[:3])\n",
    "final.extend([output_2[-1],output_2[-2],output_2[-3]])\n",
    "\n",
    "final = pd.DataFrame(final,columns=['state/ut','2-to-1-ratio'])\n",
    "final.to_csv('../output/2-to-1-ratio.csv')"
   ]
  }
 ],
 "metadata": {
  "interpreter": {
   "hash": "5e1c02cb8886270df1e9273773b156ab50dcad34df9a89319f80c6e2950455ae"
  },
  "kernelspec": {
   "display_name": "Python 3.8.8 64-bit ('base': conda)",
   "name": "python3"
  },
  "language_info": {
   "codemirror_mode": {
    "name": "ipython",
    "version": 3
   },
   "file_extension": ".py",
   "mimetype": "text/x-python",
   "name": "python",
   "nbconvert_exporter": "python",
   "pygments_lexer": "ipython3",
   "version": "3.8.8"
  },
  "orig_nbformat": 4
 },
 "nbformat": 4,
 "nbformat_minor": 2
}
