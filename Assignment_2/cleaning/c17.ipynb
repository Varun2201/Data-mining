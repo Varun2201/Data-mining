{
 "cells": [
  {
   "cell_type": "code",
   "execution_count": 2,
   "metadata": {},
   "outputs": [],
   "source": [
    "import os \n",
    "import pandas as pd"
   ]
  },
  {
   "cell_type": "code",
   "execution_count": 3,
   "metadata": {},
   "outputs": [
    {
     "data": {
      "text/plain": [
       "['1.XLSX',\n",
       " 'clean_shit.ipynb',\n",
       " 'DDW-C17-0100.XLSX',\n",
       " 'DDW-C17-0200.XLSX',\n",
       " 'DDW-C17-0300.XLSX',\n",
       " 'DDW-C17-0400.XLSX',\n",
       " 'DDW-C17-0500.XLSX',\n",
       " 'DDW-C17-0600.XLSX',\n",
       " 'DDW-C17-0700.XLSX',\n",
       " 'DDW-C17-0800.XLSX',\n",
       " 'DDW-C17-0900.XLSX',\n",
       " 'DDW-C17-1000.XLSX',\n",
       " 'DDW-C17-1100.XLSX',\n",
       " 'DDW-C17-1200.XLSX',\n",
       " 'DDW-C17-1300.XLSX',\n",
       " 'DDW-C17-1400.XLSX',\n",
       " 'DDW-C17-1500.XLSX',\n",
       " 'DDW-C17-1600.XLSX',\n",
       " 'DDW-C17-1700.XLSX',\n",
       " 'DDW-C17-1800.XLSX',\n",
       " 'DDW-C17-1900.XLSX',\n",
       " 'DDW-C17-2000.XLSX',\n",
       " 'DDW-C17-2100.XLSX',\n",
       " 'DDW-C17-2200.XLSX',\n",
       " 'DDW-C17-2300.XLSX',\n",
       " 'DDW-C17-2400.XLSX',\n",
       " 'DDW-C17-2500.XLSX',\n",
       " 'DDW-C17-2600.XLSX',\n",
       " 'DDW-C17-2700.XLSX',\n",
       " 'DDW-C17-2800.XLSX',\n",
       " 'DDW-C17-2900.XLSX',\n",
       " 'DDW-C17-3000.XLSX',\n",
       " 'DDW-C17-3100.XLSX',\n",
       " 'DDW-C17-3200.XLSX',\n",
       " 'DDW-C17-3300.XLSX',\n",
       " 'DDW-C17-3400.XLSX',\n",
       " 'DDW-C17-3500.XLSX']"
      ]
     },
     "execution_count": 3,
     "metadata": {},
     "output_type": "execute_result"
    }
   ],
   "source": [
    "os.listdir()"
   ]
  },
  {
   "cell_type": "code",
   "execution_count": 4,
   "metadata": {},
   "outputs": [],
   "source": [
    "temp = pd.read_excel('1.XLSX')"
   ]
  },
  {
   "cell_type": "code",
   "execution_count": null,
   "metadata": {},
   "outputs": [],
   "source": []
  },
  {
   "cell_type": "code",
   "execution_count": 9,
   "metadata": {},
   "outputs": [],
   "source": [
    "temp1 = temp.iloc[:,:7]"
   ]
  },
  {
   "cell_type": "code",
   "execution_count": 11,
   "metadata": {},
   "outputs": [
    {
     "data": {
      "text/html": [
       "<div>\n",
       "<style scoped>\n",
       "    .dataframe tbody tr th:only-of-type {\n",
       "        vertical-align: middle;\n",
       "    }\n",
       "\n",
       "    .dataframe tbody tr th {\n",
       "        vertical-align: top;\n",
       "    }\n",
       "\n",
       "    .dataframe thead th {\n",
       "        text-align: right;\n",
       "    }\n",
       "</style>\n",
       "<table border=\"1\" class=\"dataframe\">\n",
       "  <thead>\n",
       "    <tr style=\"text-align: right;\">\n",
       "      <th></th>\n",
       "      <th>C-17 POPULATION BY BILINGUALISM AND TRILINGUALISM</th>\n",
       "      <th>Unnamed: 1</th>\n",
       "      <th>Unnamed: 2</th>\n",
       "      <th>Unnamed: 3</th>\n",
       "      <th>Unnamed: 4</th>\n",
       "      <th>Unnamed: 5</th>\n",
       "      <th>Unnamed: 6</th>\n",
       "    </tr>\n",
       "  </thead>\n",
       "  <tbody>\n",
       "    <tr>\n",
       "      <th>0</th>\n",
       "      <td>NaN</td>\n",
       "      <td>NaN</td>\n",
       "      <td>NaN</td>\n",
       "      <td>NaN</td>\n",
       "      <td>NaN</td>\n",
       "      <td>NaN</td>\n",
       "      <td>NaN</td>\n",
       "    </tr>\n",
       "    <tr>\n",
       "      <th>1</th>\n",
       "      <td>State</td>\n",
       "      <td>State name</td>\n",
       "      <td>Total speakers of languages</td>\n",
       "      <td>NaN</td>\n",
       "      <td>NaN</td>\n",
       "      <td>NaN</td>\n",
       "      <td>NaN</td>\n",
       "    </tr>\n",
       "    <tr>\n",
       "      <th>2</th>\n",
       "      <td>Code</td>\n",
       "      <td>NaN</td>\n",
       "      <td>Code</td>\n",
       "      <td>Name</td>\n",
       "      <td>Persons</td>\n",
       "      <td>Males</td>\n",
       "      <td>Females</td>\n",
       "    </tr>\n",
       "    <tr>\n",
       "      <th>3</th>\n",
       "      <td>1</td>\n",
       "      <td>2</td>\n",
       "      <td>3</td>\n",
       "      <td>4</td>\n",
       "      <td>5</td>\n",
       "      <td>6</td>\n",
       "      <td>7</td>\n",
       "    </tr>\n",
       "    <tr>\n",
       "      <th>4</th>\n",
       "      <td>NaN</td>\n",
       "      <td>NaN</td>\n",
       "      <td>NaN</td>\n",
       "      <td>NaN</td>\n",
       "      <td>NaN</td>\n",
       "      <td>NaN</td>\n",
       "      <td>NaN</td>\n",
       "    </tr>\n",
       "    <tr>\n",
       "      <th>5</th>\n",
       "      <td>00</td>\n",
       "      <td>INDIA</td>\n",
       "      <td>001000</td>\n",
       "      <td>ASSAMESE</td>\n",
       "      <td>15311351</td>\n",
       "      <td>7810583</td>\n",
       "      <td>7500768</td>\n",
       "    </tr>\n",
       "    <tr>\n",
       "      <th>6</th>\n",
       "      <td>00</td>\n",
       "      <td>INDIA</td>\n",
       "      <td>NaN</td>\n",
       "      <td>NaN</td>\n",
       "      <td>NaN</td>\n",
       "      <td>NaN</td>\n",
       "      <td>NaN</td>\n",
       "    </tr>\n",
       "    <tr>\n",
       "      <th>7</th>\n",
       "      <td>00</td>\n",
       "      <td>INDIA</td>\n",
       "      <td>NaN</td>\n",
       "      <td>NaN</td>\n",
       "      <td>NaN</td>\n",
       "      <td>NaN</td>\n",
       "      <td>NaN</td>\n",
       "    </tr>\n",
       "    <tr>\n",
       "      <th>8</th>\n",
       "      <td>00</td>\n",
       "      <td>INDIA</td>\n",
       "      <td>NaN</td>\n",
       "      <td>NaN</td>\n",
       "      <td>NaN</td>\n",
       "      <td>NaN</td>\n",
       "      <td>NaN</td>\n",
       "    </tr>\n",
       "    <tr>\n",
       "      <th>9</th>\n",
       "      <td>00</td>\n",
       "      <td>INDIA</td>\n",
       "      <td>NaN</td>\n",
       "      <td>NaN</td>\n",
       "      <td>NaN</td>\n",
       "      <td>NaN</td>\n",
       "      <td>NaN</td>\n",
       "    </tr>\n",
       "  </tbody>\n",
       "</table>\n",
       "</div>"
      ],
      "text/plain": [
       "  C-17 POPULATION BY BILINGUALISM AND TRILINGUALISM  Unnamed: 1  \\\n",
       "0                                               NaN         NaN   \n",
       "1                                             State  State name   \n",
       "2                                              Code         NaN   \n",
       "3                                                 1           2   \n",
       "4                                               NaN         NaN   \n",
       "5                                                00       INDIA   \n",
       "6                                                00       INDIA   \n",
       "7                                                00       INDIA   \n",
       "8                                                00       INDIA   \n",
       "9                                                00       INDIA   \n",
       "\n",
       "                    Unnamed: 2 Unnamed: 3 Unnamed: 4 Unnamed: 5 Unnamed: 6  \n",
       "0                          NaN        NaN        NaN        NaN        NaN  \n",
       "1  Total speakers of languages        NaN        NaN        NaN        NaN  \n",
       "2                         Code       Name    Persons      Males    Females  \n",
       "3                            3          4          5          6          7  \n",
       "4                          NaN        NaN        NaN        NaN        NaN  \n",
       "5                       001000   ASSAMESE   15311351    7810583    7500768  \n",
       "6                          NaN        NaN        NaN        NaN        NaN  \n",
       "7                          NaN        NaN        NaN        NaN        NaN  \n",
       "8                          NaN        NaN        NaN        NaN        NaN  \n",
       "9                          NaN        NaN        NaN        NaN        NaN  "
      ]
     },
     "execution_count": 11,
     "metadata": {},
     "output_type": "execute_result"
    }
   ],
   "source": [
    "temp1[:10]"
   ]
  },
  {
   "cell_type": "code",
   "execution_count": 6,
   "metadata": {},
   "outputs": [],
   "source": [
    "temp.columns = ['State_code','State_name','Code','Language','Person','Male','Female','Code_second','Language_second'\n",
    ",'Person_second','Male_second','Females_second','Code_third','Language_third','Person_third','Male_third','Female_third']\n",
    "temp2 = temp.drop([0,1,2,3,4])"
   ]
  },
  {
   "cell_type": "code",
   "execution_count": 18,
   "metadata": {},
   "outputs": [
    {
     "data": {
      "text/plain": [
       "784         810\n",
       "797           7\n",
       "813      156372\n",
       "904           7\n",
       "938           1\n",
       "          ...  \n",
       "24697        42\n",
       "24711         2\n",
       "24744         1\n",
       "24746       128\n",
       "24753         2\n",
       "Name: Person_third, Length: 1155, dtype: object"
      ]
     },
     "execution_count": 18,
     "metadata": {},
     "output_type": "execute_result"
    }
   ],
   "source": [
    "temp2[temp2['Language_third']=='ASSAMESE']['Person_third']"
   ]
  },
  {
   "cell_type": "code",
   "execution_count": 5,
   "metadata": {},
   "outputs": [],
   "source": [
    "import numpy as np\n"
   ]
  },
  {
   "cell_type": "code",
   "execution_count": 20,
   "metadata": {},
   "outputs": [],
   "source": [
    "liist = []\n",
    "state = temp2['State_name'].unique()[0]\n",
    "state_code = temp2['State_code'].unique()[0]\n",
    "for i in a:\n",
    "    first = int(temp2[temp2['Language']==i]['Person'])\n",
    "    second = temp2[temp2['Language_second']==i]['Person_second'].sum()\n",
    "    third = temp2[temp2['Language_third']==i]['Person_third'].sum()\n",
    "    liist.append([state,state_code,i,first,second,third])"
   ]
  },
  {
   "cell_type": "code",
   "execution_count": 21,
   "metadata": {},
   "outputs": [],
   "source": [
    "ok = pd.DataFrame(liist,columns=['state','code','language','first','second','third'])"
   ]
  },
  {
   "cell_type": "code",
   "execution_count": 23,
   "metadata": {},
   "outputs": [],
   "source": [
    "ok.to_csv('../not-so-ok/India.csv')\n"
   ]
  },
  {
   "cell_type": "code",
   "execution_count": 37,
   "metadata": {},
   "outputs": [
    {
     "data": {
      "text/plain": [
       "'INDIA.csv'"
      ]
     },
     "execution_count": 37,
     "metadata": {},
     "output_type": "execute_result"
    }
   ],
   "source": [
    "x = temp2.iloc[0]['State_name'] + '.csv'"
   ]
  },
  {
   "cell_type": "code",
   "execution_count": 18,
   "metadata": {},
   "outputs": [],
   "source": [
    "allstates = os.listdir()"
   ]
  },
  {
   "cell_type": "code",
   "execution_count": 20,
   "metadata": {},
   "outputs": [
    {
     "name": "stdout",
     "output_type": "stream",
     "text": [
      "clean_shit.ipynb\n"
     ]
    }
   ],
   "source": [
    "for i in allstates:\n",
    "    try:\n",
    "        temp2 = pd.read_excel(i)\n",
    "        temp2.columns = ['State_code','State_name','Code','Language','Person','Male','Female','Code_second','Language_second'\n",
    "        ,'Person_second','Male_second','Females_second','Code_third','Language_third','Person_third','Male_third','Female_third']\n",
    "        temp2 = temp2.drop([0,1,2,3,4])\n",
    "        liist = []\n",
    "        state = temp2['State_name'].unique()[0]\n",
    "        state_code = temp2['State_code'].unique()[0]\n",
    "        a = list(temp2['Language'].unique())\n",
    "        a.remove(np.nan)\n",
    "        for i in a:\n",
    "            first = int(temp2[temp2['Language']==i]['Person'])\n",
    "            second = temp2[temp2['Language_second']==i]['Person_second'].sum()\n",
    "            third = temp2[temp2['Language_third']==i]['Person_third'].sum()\n",
    "            liist.append([state,state_code,i,first,second,third])\n",
    "        ok = pd.DataFrame(liist,columns=['state','code','language','first','second','third'])\n",
    "        x ='../not-so-ok/' + state + '.csv'\n",
    "        ok.to_csv(x)\n",
    "    except:\n",
    "        print(i)\n"
   ]
  },
  {
   "cell_type": "code",
   "execution_count": 19,
   "metadata": {},
   "outputs": [
    {
     "data": {
      "text/plain": [
       "['1.XLSX',\n",
       " 'clean_shit.ipynb',\n",
       " 'DDW-C17-0100.XLSX',\n",
       " 'DDW-C17-0200.XLSX',\n",
       " 'DDW-C17-0300.XLSX',\n",
       " 'DDW-C17-0400.XLSX',\n",
       " 'DDW-C17-0500.XLSX',\n",
       " 'DDW-C17-0600.XLSX',\n",
       " 'DDW-C17-0700.XLSX',\n",
       " 'DDW-C17-0800.XLSX',\n",
       " 'DDW-C17-0900.XLSX',\n",
       " 'DDW-C17-1000.XLSX',\n",
       " 'DDW-C17-1100.XLSX',\n",
       " 'DDW-C17-1200.XLSX',\n",
       " 'DDW-C17-1300.XLSX',\n",
       " 'DDW-C17-1400.XLSX',\n",
       " 'DDW-C17-1500.XLSX',\n",
       " 'DDW-C17-1600.XLSX',\n",
       " 'DDW-C17-1700.XLSX',\n",
       " 'DDW-C17-1800.XLSX',\n",
       " 'DDW-C17-1900.XLSX',\n",
       " 'DDW-C17-2000.XLSX',\n",
       " 'DDW-C17-2100.XLSX',\n",
       " 'DDW-C17-2200.XLSX',\n",
       " 'DDW-C17-2300.XLSX',\n",
       " 'DDW-C17-2400.XLSX',\n",
       " 'DDW-C17-2500.XLSX',\n",
       " 'DDW-C17-2600.XLSX',\n",
       " 'DDW-C17-2700.XLSX',\n",
       " 'DDW-C17-2800.XLSX',\n",
       " 'DDW-C17-2900.XLSX',\n",
       " 'DDW-C17-3000.XLSX',\n",
       " 'DDW-C17-3100.XLSX',\n",
       " 'DDW-C17-3200.XLSX',\n",
       " 'DDW-C17-3300.XLSX',\n",
       " 'DDW-C17-3400.XLSX',\n",
       " 'DDW-C17-3500.XLSX']"
      ]
     },
     "execution_count": 19,
     "metadata": {},
     "output_type": "execute_result"
    }
   ],
   "source": [
    "allstates\n",
    "        "
   ]
  },
  {
   "cell_type": "code",
   "execution_count": null,
   "metadata": {},
   "outputs": [],
   "source": []
  }
 ],
 "metadata": {
  "interpreter": {
   "hash": "5e1c02cb8886270df1e9273773b156ab50dcad34df9a89319f80c6e2950455ae"
  },
  "kernelspec": {
   "display_name": "Python 3.8.8 64-bit ('base': conda)",
   "name": "python3"
  },
  "language_info": {
   "codemirror_mode": {
    "name": "ipython",
    "version": 3
   },
   "file_extension": ".py",
   "mimetype": "text/x-python",
   "name": "python",
   "nbconvert_exporter": "python",
   "pygments_lexer": "ipython3",
   "version": "3.8.8"
  },
  "orig_nbformat": 4
 },
 "nbformat": 4,
 "nbformat_minor": 2
}
