{
 "cells": [
  {
   "cell_type": "code",
   "execution_count": 1,
   "metadata": {},
   "outputs": [],
   "source": [
    "import pandas as pd"
   ]
  },
  {
   "cell_type": "code",
   "execution_count": 2,
   "metadata": {},
   "outputs": [],
   "source": [
    "ref = pd.read_csv('C-19.csv')\n",
    "data_ref = pd.read_excel('DDW-0000C-08.xlsx')"
   ]
  },
  {
   "cell_type": "code",
   "execution_count": 3,
   "metadata": {},
   "outputs": [],
   "source": [
    "data_rename = data_ref[['Unnamed: 1', 'Unnamed: 2', 'Unnamed: 3', 'Unnamed: 4',\n",
    "       'C-8  EDUCATIONAL LEVEL BY AGE AND SEX FOR POPULATION AGE 7 AND ABOVE - 2011',\n",
    "       'Unnamed: 6', 'Unnamed: 7', 'Unnamed: 8', 'Unnamed: 9', 'Unnamed: 10',\n",
    "       'Unnamed: 11', 'Unnamed: 12', 'Unnamed: 13', 'Unnamed: 14', 'Unnamed: 18',\n",
    "       'Unnamed: 19', 'Unnamed: 20', 'Unnamed: 21', 'Unnamed: 22',\n",
    "       'Unnamed: 23', 'Unnamed: 24', 'Unnamed: 25', 'Unnamed: 26',\n",
    "       'Unnamed: 27', 'Unnamed: 28', 'Unnamed: 29', 'Unnamed: 39', 'Unnamed: 40', 'Unnamed: 41',]]"
   ]
  },
  {
   "cell_type": "code",
   "execution_count": 4,
   "metadata": {},
   "outputs": [],
   "source": [
    "data_rename.columns = ['State_Code','District_code','Area_name','Type','Age_grp','Total_Person',\n",
    " 'Total_Male',\n",
    " 'Total_Female',\n",
    " 'Illiterate_Person',\n",
    " 'Illiterate_Male',\n",
    " 'Illiterate_Female',\n",
    " 'Literate_Person',\n",
    " 'Literate_Male',\n",
    " 'Literate_Female',\n",
    " 'Literate but below primary_Person',\n",
    " 'Literate but below primary_Male',\n",
    " 'Literate but below primary_Female',\n",
    " 'Primary but below middle_Person',\n",
    " 'Primary but below middle_Male',\n",
    " 'Primary but below middle_Female',\n",
    " 'Middle but below matric/secondary_Person',\n",
    " 'Middle but below matric/secondary_Male',\n",
    " 'Middle but below matric/secondary_Female',\n",
    " 'Matric/Secondary but below graduate_Person',\n",
    " 'Matric/Secondary but below graduate_Male',\n",
    " 'Matric/Secondary but below graduate_Female',\n",
    " 'Graduate and above_Person',\n",
    " 'Graduate and above_Male',\n",
    " 'Graduate and above_Female']"
   ]
  },
  {
   "cell_type": "code",
   "execution_count": 6,
   "metadata": {},
   "outputs": [
    {
     "name": "stderr",
     "output_type": "stream",
     "text": [
      "C:\\Users\\My PC\\anaconda3\\lib\\site-packages\\pandas\\core\\frame.py:4308: SettingWithCopyWarning: \n",
      "A value is trying to be set on a copy of a slice from a DataFrame\n",
      "\n",
      "See the caveats in the documentation: https://pandas.pydata.org/pandas-docs/stable/user_guide/indexing.html#returning-a-view-versus-a-copy\n",
      "  return super().drop(\n"
     ]
    }
   ],
   "source": [
    "data_rename.drop([0,1,2,3,4,5],inplace=True)"
   ]
  },
  {
   "cell_type": "code",
   "execution_count": 60,
   "metadata": {},
   "outputs": [],
   "source": [
    "data_rename.to_csv('C-08.csv')"
   ]
  },
  {
   "cell_type": "code",
   "execution_count": null,
   "metadata": {},
   "outputs": [],
   "source": []
  }
 ],
 "metadata": {
  "interpreter": {
   "hash": "5e1c02cb8886270df1e9273773b156ab50dcad34df9a89319f80c6e2950455ae"
  },
  "kernelspec": {
   "display_name": "Python 3.8.8 64-bit ('base': conda)",
   "name": "python3"
  },
  "language_info": {
   "codemirror_mode": {
    "name": "ipython",
    "version": 3
   },
   "file_extension": ".py",
   "mimetype": "text/x-python",
   "name": "python",
   "nbconvert_exporter": "python",
   "pygments_lexer": "ipython3",
   "version": "3.8.8"
  },
  "orig_nbformat": 4
 },
 "nbformat": 4,
 "nbformat_minor": 2
}
